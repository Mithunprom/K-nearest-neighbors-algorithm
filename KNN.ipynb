{
 "cells": [
  {
   "cell_type": "markdown",
   "metadata": {},
   "source": [
    "We will build a KNN algorithm for the classification from scratch and compare it to the KNeighborsClassifier from sklearn.\n",
    "First we will create a dummy datatset and test all the functions in the build and then employ the iris dataset to compare the result with the\n",
    "sklearn package."
   ]
  },
  {
   "cell_type": "code",
   "execution_count": 140,
   "metadata": {},
   "outputs": [],
   "source": [
    "import pandas as pd\n",
    "import numpy as np\n",
    "from math import sqrt\n",
    "import os\n",
    "import matplotlib.pyplot as plt\n",
    "os.chdir('C:/Users/mithu/OneDrive/ML')"
   ]
  },
  {
   "cell_type": "code",
   "execution_count": 141,
   "metadata": {},
   "outputs": [],
   "source": [
    "# Test distance function\n",
    "dataset = [[2.7810836,2.550537003,0],\n",
    "\t[1.465489372,2.362125076,0],\n",
    "\t[3.396561688,4.400293529,0],\n",
    "\t[1.38807019,1.850220317,0],\n",
    "\t[3.06407232,3.005305973,0],\n",
    "\t[7.627531214,2.759262235,1],\n",
    "\t[5.332441248,2.088626775,1],\n",
    "\t[6.922596716,1.77106367,1],\n",
    "\t[8.675418651,-0.242068655,1],\n",
    "\t[7.673756466,3.508563011,1]]\n",
    "dataset=np.array(dataset)"
   ]
  },
  {
   "cell_type": "markdown",
   "metadata": {},
   "source": [
    "Lets plot the dataset where there are only two classes and two features. "
   ]
  },
  {
   "cell_type": "code",
   "execution_count": 150,
   "metadata": {},
   "outputs": [
    {
     "data": {
      "text/plain": [
       "<matplotlib.collections.PathCollection at 0x2126abfb948>"
      ]
     },
     "execution_count": 150,
     "metadata": {},
     "output_type": "execute_result"
    },
    {
     "data": {
      "image/png": "[encoded data removed]",
      "text/plain": [
       "<Figure size 432x288 with 1 Axes>"
      ]
     },
     "metadata": {
      "needs_background": "light"
     },
     "output_type": "display_data"
    }
   ],
   "source": [
    "x = dataset[:,0]\n",
    "y = dataset[:,1]\n",
    "c = dataset[:,2].astype(int)\n",
    "mycolors = np.array([ 'b', 'r' ])\n",
    "# plot the data\n",
    "fig = plt.figure()\n",
    "ax = fig.add_subplot(111)\n",
    "# plot x,y data with c as the color vector, set the line width of the markers to 0\n",
    "ax.scatter(x, y, c=mycolors[c], lw=0)"
   ]
  },
  {
   "cell_type": "markdown",
   "metadata": {},
   "source": [
    "Lets create the euclidian distance that will define the closes neighbours."
   ]
  },
  {
   "cell_type": "code",
   "execution_count": 16,
   "metadata": {},
   "outputs": [],
   "source": [
    "def euclidian(p,q):\n",
    "    s=0.0\n",
    "    for i in range(len(p)-1):\n",
    "        s+=(p[i]-q[i])**2\n",
    "    return sqrt(s)"
   ]
  },
  {
   "cell_type": "markdown",
   "metadata": {},
   "source": [
    "Let's test the created function. Look good!"
   ]
  },
  {
   "cell_type": "code",
   "execution_count": 17,
   "metadata": {},
   "outputs": [
    {
     "name": "stdout",
     "output_type": "stream",
     "text": [
      "0.0\n",
      "1.3290173915275787\n",
      "1.9494646655653247\n",
      "1.5591439385540549\n",
      "0.5356280721938492\n",
      "4.850940186986411\n",
      "2.592833759950511\n",
      "4.214227042632867\n",
      "6.522409988228337\n",
      "4.985585382449795\n"
     ]
    }
   ],
   "source": [
    "row0 = dataset[0]\n",
    "for row in dataset:\n",
    "\tdistance = euclidian(row0, row)\n",
    "\tprint(distance)"
   ]
  },
  {
   "cell_type": "markdown",
   "metadata": {},
   "source": [
    "Lets get the neighbour function which will define its K number of neighbour based on the closest euclidian distance. "
   ]
  },
  {
   "cell_type": "code",
   "execution_count": 21,
   "metadata": {},
   "outputs": [],
   "source": [
    "def get_neighbour(train,test_row,num_neighbours):\n",
    "    distance=[]\n",
    "    for train_row in train:\n",
    "        dist=euclidian(test_row,train_row)\n",
    "        distance.append((train_row,dist))\n",
    "    distance.sort(key=lambda tup:tup[1])\n",
    "    neighbours=[]\n",
    "    for i in range(num_neighbours):\n",
    "        neighbours.append(distance[i][0])\n",
    "    return neighbours"
   ]
  },
  {
   "cell_type": "markdown",
   "metadata": {},
   "source": [
    "Lets test this function. As expected, the 3 closest point for the first point which is class-0 are also belong to the same class. "
   ]
  },
  {
   "cell_type": "code",
   "execution_count": 152,
   "metadata": {},
   "outputs": [
    {
     "data": {
      "text/plain": [
       "[array([2.7810836, 2.550537 , 0.       ]),\n",
       " array([3.06407232, 3.00530597, 0.        ]),\n",
       " array([1.46548937, 2.36212508, 0.        ])]"
      ]
     },
     "execution_count": 152,
     "metadata": {},
     "output_type": "execute_result"
    }
   ],
   "source": [
    "neighbour=get_neighbour(dataset,dataset[0],3)\n",
    "neighbour"
   ]
  },
  {
   "cell_type": "markdown",
   "metadata": {},
   "source": [
    "Lets create a prediction function that will predict a test function class depening on the maximum vote it gains from its closest points. \n"
   ]
  },
  {
   "cell_type": "code",
   "execution_count": 153,
   "metadata": {},
   "outputs": [],
   "source": [
    "#prediction\n",
    "def prediction_classification(train,test_row,num_neighbours):\n",
    "    neighbour=get_neighbour(train,test_row,num_neighbours)\n",
    "    output_values=[row[-1] for row in neighbour]\n",
    "    prediction=max(set(output_values),key=output_values.count)\n",
    "    return prediction"
   ]
  },
  {
   "cell_type": "markdown",
   "metadata": {},
   "source": [
    "We also test this function and finds that prediction is as expected for a random point."
   ]
  },
  {
   "cell_type": "code",
   "execution_count": 154,
   "metadata": {},
   "outputs": [
    {
     "name": "stdout",
     "output_type": "stream",
     "text": [
      "Expected 0, Got 0.\n"
     ]
    }
   ],
   "source": [
    "prediction = prediction_classification(dataset, dataset[0], 3)\n",
    "print('Expected %d, Got %d.' % (dataset[0][-1], prediction))"
   ]
  },
  {
   "cell_type": "markdown",
   "metadata": {},
   "source": [
    "And here is the total prediction function for all the test points and test this function. Looks good!"
   ]
  },
  {
   "cell_type": "code",
   "execution_count": 29,
   "metadata": {},
   "outputs": [],
   "source": [
    "def KNN(train,test,k):\n",
    "    predictions=[]\n",
    "    for row in test:\n",
    "        predictions.append(prediction_classification(train,row,k))\n",
    "    return predictions"
   ]
  },
  {
   "cell_type": "markdown",
   "metadata": {},
   "source": [
    "KNN(dataset,dataset,3)"
   ]
  },
  {
   "cell_type": "code",
   "execution_count": 33,
   "metadata": {},
   "outputs": [
    {
     "data": {
      "text/plain": [
       "array([0., 0., 0., 0., 0., 1., 1., 1., 1., 1.])"
      ]
     },
     "execution_count": 33,
     "metadata": {},
     "output_type": "execute_result"
    }
   ],
   "source": [
    "np.array(dataset)[:,-1]"
   ]
  },
  {
   "cell_type": "markdown",
   "metadata": {},
   "source": [
    "Now, lets load the iris datatset. We have to do some preprocessing. Firstly, we need to convert the string class to integer by\n",
    "labelencoder. "
   ]
  },
  {
   "cell_type": "code",
   "execution_count": 113,
   "metadata": {},
   "outputs": [],
   "source": [
    "# k-nearest neighbors on the Iris Flowers Dataset\n",
    "df=pd.read_csv('iris.txt',names=['X1','X2','X3','X4','Y'])"
   ]
  },
  {
   "cell_type": "code",
   "execution_count": 114,
   "metadata": {},
   "outputs": [],
   "source": [
    "# Convert string column to float\n",
    "from sklearn.preprocessing import LabelEncoder\n",
    "CLASS=LabelEncoder().fit_transform(df.Y)\n",
    "df['Y']=CLASS  \n"
   ]
  },
  {
   "cell_type": "markdown",
   "metadata": {},
   "source": [
    "Lets check if there is any null values. Looks none."
   ]
  },
  {
   "cell_type": "code",
   "execution_count": 115,
   "metadata": {},
   "outputs": [
    {
     "data": {
      "text/html": [
       "<div>\n",
       "<style scoped>\n",
       "    .dataframe tbody tr th:only-of-type {\n",
       "        vertical-align: middle;\n",
       "    }\n",
       "\n",
       "    .dataframe tbody tr th {\n",
       "        vertical-align: top;\n",
       "    }\n",
       "\n",
       "    .dataframe thead th {\n",
       "        text-align: right;\n",
       "    }\n",
       "</style>\n",
       "<table border=\"1\" class=\"dataframe\">\n",
       "  <thead>\n",
       "    <tr style=\"text-align: right;\">\n",
       "      <th></th>\n",
       "      <th>X1</th>\n",
       "      <th>X2</th>\n",
       "      <th>X3</th>\n",
       "      <th>X4</th>\n",
       "      <th>Y</th>\n",
       "    </tr>\n",
       "  </thead>\n",
       "  <tbody>\n",
       "    <tr>\n",
       "      <th>0</th>\n",
       "      <td>False</td>\n",
       "      <td>False</td>\n",
       "      <td>False</td>\n",
       "      <td>False</td>\n",
       "      <td>False</td>\n",
       "    </tr>\n",
       "    <tr>\n",
       "      <th>1</th>\n",
       "      <td>False</td>\n",
       "      <td>False</td>\n",
       "      <td>False</td>\n",
       "      <td>False</td>\n",
       "      <td>False</td>\n",
       "    </tr>\n",
       "    <tr>\n",
       "      <th>2</th>\n",
       "      <td>False</td>\n",
       "      <td>False</td>\n",
       "      <td>False</td>\n",
       "      <td>False</td>\n",
       "      <td>False</td>\n",
       "    </tr>\n",
       "    <tr>\n",
       "      <th>3</th>\n",
       "      <td>False</td>\n",
       "      <td>False</td>\n",
       "      <td>False</td>\n",
       "      <td>False</td>\n",
       "      <td>False</td>\n",
       "    </tr>\n",
       "    <tr>\n",
       "      <th>4</th>\n",
       "      <td>False</td>\n",
       "      <td>False</td>\n",
       "      <td>False</td>\n",
       "      <td>False</td>\n",
       "      <td>False</td>\n",
       "    </tr>\n",
       "    <tr>\n",
       "      <th>...</th>\n",
       "      <td>...</td>\n",
       "      <td>...</td>\n",
       "      <td>...</td>\n",
       "      <td>...</td>\n",
       "      <td>...</td>\n",
       "    </tr>\n",
       "    <tr>\n",
       "      <th>145</th>\n",
       "      <td>False</td>\n",
       "      <td>False</td>\n",
       "      <td>False</td>\n",
       "      <td>False</td>\n",
       "      <td>False</td>\n",
       "    </tr>\n",
       "    <tr>\n",
       "      <th>146</th>\n",
       "      <td>False</td>\n",
       "      <td>False</td>\n",
       "      <td>False</td>\n",
       "      <td>False</td>\n",
       "      <td>False</td>\n",
       "    </tr>\n",
       "    <tr>\n",
       "      <th>147</th>\n",
       "      <td>False</td>\n",
       "      <td>False</td>\n",
       "      <td>False</td>\n",
       "      <td>False</td>\n",
       "      <td>False</td>\n",
       "    </tr>\n",
       "    <tr>\n",
       "      <th>148</th>\n",
       "      <td>False</td>\n",
       "      <td>False</td>\n",
       "      <td>False</td>\n",
       "      <td>False</td>\n",
       "      <td>False</td>\n",
       "    </tr>\n",
       "    <tr>\n",
       "      <th>149</th>\n",
       "      <td>False</td>\n",
       "      <td>False</td>\n",
       "      <td>False</td>\n",
       "      <td>False</td>\n",
       "      <td>False</td>\n",
       "    </tr>\n",
       "  </tbody>\n",
       "</table>\n",
       "<p>150 rows × 5 columns</p>\n",
       "</div>"
      ],
      "text/plain": [
       "        X1     X2     X3     X4      Y\n",
       "0    False  False  False  False  False\n",
       "1    False  False  False  False  False\n",
       "2    False  False  False  False  False\n",
       "3    False  False  False  False  False\n",
       "4    False  False  False  False  False\n",
       "..     ...    ...    ...    ...    ...\n",
       "145  False  False  False  False  False\n",
       "146  False  False  False  False  False\n",
       "147  False  False  False  False  False\n",
       "148  False  False  False  False  False\n",
       "149  False  False  False  False  False\n",
       "\n",
       "[150 rows x 5 columns]"
      ]
     },
     "execution_count": 115,
     "metadata": {},
     "output_type": "execute_result"
    }
   ],
   "source": [
    "df.isnull() \n"
   ]
  },
  {
   "cell_type": "markdown",
   "metadata": {},
   "source": [
    "We also need to be sure that all the data types are in exact type."
   ]
  },
  {
   "cell_type": "code",
   "execution_count": 117,
   "metadata": {},
   "outputs": [
    {
     "data": {
      "text/plain": [
       "X1    float64\n",
       "X2    float64\n",
       "X3    float64\n",
       "X4    float64\n",
       "Y       int32\n",
       "dtype: object"
      ]
     },
     "execution_count": 117,
     "metadata": {},
     "output_type": "execute_result"
    }
   ],
   "source": [
    "# convert just columns \"a\" and \"b\"\n",
    "df[[\"X1\", \"X2\",\"X3\",\"X4\"]] = df[[\"X1\", \"X2\",\"X3\",\"X4\"]].apply(pd.to_numeric)\n",
    "df.dtypes"
   ]
  },
  {
   "cell_type": "markdown",
   "metadata": {},
   "source": [
    "We need to normalize the data in [0,1] range. As KNN depends on the distance, it is vulnerable to the outlier. "
   ]
  },
  {
   "cell_type": "code",
   "execution_count": 118,
   "metadata": {},
   "outputs": [],
   "source": [
    "# Find the min and max values for each column\n",
    "minCol=[min(df[col]) for col in df][:-1]\n",
    "maxCol=[max(df[col]) for col in df][:-1]\n"
   ]
  },
  {
   "cell_type": "code",
   "execution_count": 119,
   "metadata": {},
   "outputs": [],
   "source": [
    "# Rescale dataset columns to the range 0-1\n",
    "j=0\n",
    "for i in df[[\"X1\", \"X2\",\"X3\",\"X4\"]]:\n",
    "    df[i]=(df[i]-minCol[j])/(maxCol[j]-minCol[j])\n",
    "    j+=0\n"
   ]
  },
  {
   "cell_type": "markdown",
   "metadata": {},
   "source": [
    "We will use the accuracy metric for the evaluation criteria. "
   ]
  },
  {
   "cell_type": "code",
   "execution_count": 121,
   "metadata": {},
   "outputs": [],
   "source": [
    "# Calculate accuracy percentage\n",
    "from sklearn.metrics import accuracy_score"
   ]
  },
  {
   "cell_type": "markdown",
   "metadata": {},
   "source": [
    "Here is the complete class funciton of the KNN algorithm that we tested on the dummy datat. "
   ]
  },
  {
   "cell_type": "code",
   "execution_count": 122,
   "metadata": {},
   "outputs": [],
   "source": [
    "class KNN_build:\n",
    "    def __init__(self,number_of_neighbours=3):\n",
    "        self.num_of_neighbours=number_of_neighbours\n",
    "        \n",
    "    def euclidian_distance(self,p,q):\n",
    "        s=0.0\n",
    "        for i in range(p.shape[0]-1):\n",
    "            s+=(p[i]-q[i])**2\n",
    "        return sqrt(s)\n",
    "    # Locate the most similar neighbors\n",
    "    def neighbours(self,train,test_row):\n",
    "        distances=[]\n",
    "        for train_row in train:\n",
    "            dis=self.euclidian_distance(train_row,test_row)\n",
    "            distances.append((train_row,dis))\n",
    "        distances.sort(key=lambda x:x[1])\n",
    "        neighbour=[]\n",
    "        for i in range(self.num_of_neighbours):\n",
    "            neighbour.append(distances[i][0])\n",
    "        return neighbour\n",
    "    # Make a prediction with neighbors\n",
    "    def predictions(self,train,test_row):\n",
    "        neighbour=self.neighbours(train,test_row)\n",
    "        outputs=[row[-1] for row in neighbour]\n",
    "        class_ret=max(set(outputs), key=outputs.count)\n",
    "        return class_ret\n",
    "    # kNN Algorithm\n",
    "    def KNNalgo(self,train,test):\n",
    "        pred=[]\n",
    "        for row in test:\n",
    "            pred.append(self.predictions(train,row))\n",
    "        return pred"
   ]
  },
  {
   "cell_type": "markdown",
   "metadata": {},
   "source": [
    "We will split the dataset into 10-folds and compare the accuracy scores with the sklearn builtint KNNClassifiers. We use K=3 in the both models. "
   ]
  },
  {
   "cell_type": "code",
   "execution_count": 126,
   "metadata": {},
   "outputs": [
    {
     "name": "stderr",
     "output_type": "stream",
     "text": [
      "C:\\Users\\mithu\\AppData\\Local\\Continuum\\anaconda3\\lib\\site-packages\\ipykernel_launcher.py:16: DataConversionWarning: A column-vector y was passed when a 1d array was expected. Please change the shape of y to (n_samples, ), for example using ravel().\n",
      "  app.launch_new_instance()\n",
      "C:\\Users\\mithu\\AppData\\Local\\Continuum\\anaconda3\\lib\\site-packages\\ipykernel_launcher.py:16: DataConversionWarning: A column-vector y was passed when a 1d array was expected. Please change the shape of y to (n_samples, ), for example using ravel().\n",
      "  app.launch_new_instance()\n",
      "C:\\Users\\mithu\\AppData\\Local\\Continuum\\anaconda3\\lib\\site-packages\\ipykernel_launcher.py:16: DataConversionWarning: A column-vector y was passed when a 1d array was expected. Please change the shape of y to (n_samples, ), for example using ravel().\n",
      "  app.launch_new_instance()\n",
      "C:\\Users\\mithu\\AppData\\Local\\Continuum\\anaconda3\\lib\\site-packages\\ipykernel_launcher.py:16: DataConversionWarning: A column-vector y was passed when a 1d array was expected. Please change the shape of y to (n_samples, ), for example using ravel().\n",
      "  app.launch_new_instance()\n",
      "C:\\Users\\mithu\\AppData\\Local\\Continuum\\anaconda3\\lib\\site-packages\\ipykernel_launcher.py:16: DataConversionWarning: A column-vector y was passed when a 1d array was expected. Please change the shape of y to (n_samples, ), for example using ravel().\n",
      "  app.launch_new_instance()\n",
      "C:\\Users\\mithu\\AppData\\Local\\Continuum\\anaconda3\\lib\\site-packages\\ipykernel_launcher.py:16: DataConversionWarning: A column-vector y was passed when a 1d array was expected. Please change the shape of y to (n_samples, ), for example using ravel().\n",
      "  app.launch_new_instance()\n",
      "C:\\Users\\mithu\\AppData\\Local\\Continuum\\anaconda3\\lib\\site-packages\\ipykernel_launcher.py:16: DataConversionWarning: A column-vector y was passed when a 1d array was expected. Please change the shape of y to (n_samples, ), for example using ravel().\n",
      "  app.launch_new_instance()\n",
      "C:\\Users\\mithu\\AppData\\Local\\Continuum\\anaconda3\\lib\\site-packages\\ipykernel_launcher.py:16: DataConversionWarning: A column-vector y was passed when a 1d array was expected. Please change the shape of y to (n_samples, ), for example using ravel().\n",
      "  app.launch_new_instance()\n",
      "C:\\Users\\mithu\\AppData\\Local\\Continuum\\anaconda3\\lib\\site-packages\\ipykernel_launcher.py:16: DataConversionWarning: A column-vector y was passed when a 1d array was expected. Please change the shape of y to (n_samples, ), for example using ravel().\n",
      "  app.launch_new_instance()\n",
      "C:\\Users\\mithu\\AppData\\Local\\Continuum\\anaconda3\\lib\\site-packages\\ipykernel_launcher.py:16: DataConversionWarning: A column-vector y was passed when a 1d array was expected. Please change the shape of y to (n_samples, ), for example using ravel().\n",
      "  app.launch_new_instance()\n"
     ]
    }
   ],
   "source": [
    "# Split a dataset into k folds\n",
    "from sklearn.model_selection import KFold # import KFold\n",
    "KF=KFold(n_splits=10, random_state=121, shuffle=True)#42\n",
    "# Test the kNN on the Iris Flowers dataset\n",
    "import matplotlib.pyplot as plt\n",
    "from sklearn.neighbors import KNeighborsClassifier\n",
    "Acc1,Acc2=[],[]\n",
    "for train_index, test_index in KF.split(df.values):\n",
    "    X_train=df.iloc[train_index,:].values\n",
    "    X_test=df.iloc[test_index,:].values\n",
    "    Y_train,Y_test=df.iloc[train_index,-1].values,df.iloc[test_index,-1].values\n",
    "    KNN=KNN_build()\n",
    "    pred=KNN.KNNalgo(X_train,X_test)\n",
    "    Acc1.append(accuracy_score(Y_test,pred))\n",
    "    classifier = KNeighborsClassifier(n_neighbors=3)\n",
    "    classifier.fit(X_train[:,:-1], Y_train.reshape(-1,1))\n",
    "    y_pred = classifier.predict(X_test[:,:-1])\n",
    "    Acc2.append(accuracy_score(Y_test,y_pred))\n",
    "data=[Acc1,Acc2]"
   ]
  },
  {
   "cell_type": "markdown",
   "metadata": {},
   "source": [
    "If we see the following boxplot, we can see that both of the algorithm have the similar values. It is a statement that our algorithm\n",
    "is working perfectly. Also, the median of the accuracy for both model is approximately 96% whichs is really high. "
   ]
  },
  {
   "cell_type": "code",
   "execution_count": 127,
   "metadata": {},
   "outputs": [
    {
     "data": {
      "text/plain": [
       "[Text(1, 0, 'KNN_algo'), Text(2, 0, 'KNN')]"
      ]
     },
     "execution_count": 127,
     "metadata": {},
     "output_type": "execute_result"
    },
    {
     "data": {
      "image/png": "[encoded data removed]",
      "text/plain": [
       "<Figure size 432x288 with 1 Axes>"
      ]
     },
     "metadata": {
      "needs_background": "light"
     },
     "output_type": "display_data"
    }
   ],
   "source": [
    "fig, ax = plt.subplots()\n",
    "ax.boxplot(data, notch=True)\n",
    "ax.set_xticklabels(['KNN_algo','KNN']) \n"
   ]
  },
  {
   "cell_type": "code",
   "execution_count": null,
   "metadata": {},
   "outputs": [],
   "source": []
  }
 ],
 "metadata": {
  "kernelspec": {
   "display_name": "Python 3",
   "language": "python",
   "name": "python3"
  },
  "language_info": {
   "codemirror_mode": {
    "name": "ipython",
    "version": 3
   },
   "file_extension": ".py",
   "mimetype": "text/x-python",
   "name": "python",
   "nbconvert_exporter": "python",
   "pygments_lexer": "ipython3",
   "version": "3.7.4"
  }
 },
 "nbformat": 4,
 "nbformat_minor": 4
}
